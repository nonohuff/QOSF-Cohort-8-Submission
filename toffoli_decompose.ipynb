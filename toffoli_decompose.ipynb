{
 "cells": [
  {
   "cell_type": "code",
   "execution_count": 2,
   "metadata": {},
   "outputs": [],
   "source": [
    "import numpy as np\n",
    "import sympy as sp\n",
    "from qiskit import QuantumRegister, QuantumCircuit, transpile\n",
    "from numpy import pi\n",
    "from qiskit.quantum_info import Operator\n",
    "from qiskit.visualization import array_to_latex"
   ]
  },
  {
   "cell_type": "markdown",
   "metadata": {},
   "source": [
    "The Toffoli gate has a known decomposition into H (U(pi/2,0,pi)) and T (U(0,0,pi/4)) gates. From Nelson and Chuang pg 182 (where we have replaced the S gate). The decomposition is as follows:"
   ]
  },
  {
   "cell_type": "code",
   "execution_count": 3,
   "metadata": {},
   "outputs": [
    {
     "data": {
      "text/latex": [
       "$$\n",
       "\\text{Unitary} = \n",
       "\\begin{bmatrix}\n",
       "1 & 0 & 0 & 0 & 0 & 0 & 0 & 0  \\\\\n",
       " 0 & 1 & 0 & 0 & 0 & 0 & 0 & 0  \\\\\n",
       " 0 & 0 & 1 & 0 & 0 & 0 & 0 & 0  \\\\\n",
       " 0 & 0 & 0 & 0 & 0 & 0 & 0 & 1  \\\\\n",
       " 0 & 0 & 0 & 0 & 1 & 0 & 0 & 0  \\\\\n",
       " 0 & 0 & 0 & 0 & 0 & 1 & 0 & 0  \\\\\n",
       " 0 & 0 & 0 & 0 & 0 & 0 & 1 & 0  \\\\\n",
       " 0 & 0 & 0 & 1 & 0 & 0 & 0 & 0  \\\\\n",
       " \\end{bmatrix}\n",
       "$$"
      ],
      "text/plain": [
       "<IPython.core.display.Latex object>"
      ]
     },
     "execution_count": 3,
     "metadata": {},
     "output_type": "execute_result"
    }
   ],
   "source": [
    "# building Qiskit circuit for Toffoli decomposition\n",
    "qreg_q = QuantumRegister(3, 'q')\n",
    "circuit = QuantumCircuit(qreg_q)\n",
    "\n",
    "circuit.h(2)\n",
    "circuit.cx(qreg_q[1], qreg_q[2])\n",
    "circuit.tdg(qreg_q[2])\n",
    "circuit.cx(qreg_q[0], qreg_q[2])\n",
    "circuit.t(qreg_q[2])\n",
    "circuit.cx(qreg_q[1], qreg_q[2])\n",
    "circuit.tdg(qreg_q[2])\n",
    "circuit.cx(qreg_q[0], qreg_q[2])\n",
    "circuit.t(qreg_q[1])\n",
    "circuit.t(qreg_q[2])\n",
    "circuit.cx(qreg_q[0], qreg_q[1])\n",
    "circuit.h(qreg_q[2])\n",
    "circuit.t(qreg_q[0])\n",
    "circuit.tdg(qreg_q[1])\n",
    "circuit.cx(qreg_q[0], qreg_q[1])\n",
    "\n",
    "unitary = Operator(circuit).data\n",
    "array_to_latex(unitary, prefix=\"\\\\text{Unitary} = \") # Note that Qiskit uses little endian ordering instead of Big endian ordering, so this unitary looks different than the textbook one for the Toffoli gate"
   ]
  },
  {
   "cell_type": "code",
   "execution_count": 4,
   "metadata": {},
   "outputs": [
    {
     "data": {
      "image/png": "[encoded data removed]",
      "text/plain": [
       "<Figure size 1040x284.278 with 1 Axes>"
      ]
     },
     "execution_count": 4,
     "metadata": {},
     "output_type": "execute_result"
    }
   ],
   "source": [
    "circuit.draw(output='mpl') # Here is the H,T Toffoli decomposition. \n",
    "# The basic idea is that we use interleaved inverse gates to cancel each other out unless all of the controls are \"1\",\n",
    "#  in which case the T gates constructively add a phase to the target qubit that implements the X gate when we H back into the computational (|0>,|1>) basis."
   ]
  },
  {
   "cell_type": "code",
   "execution_count": 5,
   "metadata": {},
   "outputs": [
    {
     "data": {
      "text/latex": [
       "$$\n",
       "\\text{Unitary} = \n",
       "\\begin{bmatrix}\n",
       "1 & 0 & 0 & 0 & 0 & 0 & 0 & 0  \\\\\n",
       " 0 & 1 & 0 & 0 & 0 & 0 & 0 & 0  \\\\\n",
       " 0 & 0 & 1 & 0 & 0 & 0 & 0 & 0  \\\\\n",
       " 0 & 0 & 0 & 0 & 0 & 0 & 0 & 1  \\\\\n",
       " 0 & 0 & 0 & 0 & 1 & 0 & 0 & 0  \\\\\n",
       " 0 & 0 & 0 & 0 & 0 & 1 & 0 & 0  \\\\\n",
       " 0 & 0 & 0 & 0 & 0 & 0 & 1 & 0  \\\\\n",
       " 0 & 0 & 0 & 1 & 0 & 0 & 0 & 0  \\\\\n",
       " \\end{bmatrix}\n",
       "$$"
      ],
      "text/plain": [
       "<IPython.core.display.Latex object>"
      ]
     },
     "execution_count": 5,
     "metadata": {},
     "output_type": "execute_result"
    }
   ],
   "source": [
    "# To test our decomposition, lets compare it to Qiskit's built-in Toffoli gate.\n",
    "qreg_q = QuantumRegister(3, 'q')\n",
    "circuit2 = QuantumCircuit(qreg_q)\n",
    "\n",
    "circuit2.ccx(qreg_q[0], qreg_q[1], qreg_q[2])\n",
    "\n",
    "unitary2 = Operator(circuit2).data\n",
    "array_to_latex(unitary2, prefix=\"\\\\text{Unitary} = \")"
   ]
  },
  {
   "cell_type": "code",
   "execution_count": 6,
   "metadata": {},
   "outputs": [
    {
     "data": {
      "text/plain": [
       "True"
      ]
     },
     "execution_count": 6,
     "metadata": {},
     "output_type": "execute_result"
    }
   ],
   "source": [
    "np.all(np.isclose(unitary,unitary2)) # We can see that the two unitaries are the same, so our decomposition is correct."
   ]
  },
  {
   "cell_type": "markdown",
   "metadata": {},
   "source": [
    "Now, to generalize to the 4-qubit case, we apply the same logic as above to the CCCX gate. This requires additional CNOT gates to be added to the target qubit to control on the extra qubit. Since the phase we add after each CNOT is constructively added, we must use a Phase gate (U(0,0,theta)) instead of a T gate (U(0,0,pi/4)) where theta = pi/8 to make the row implement a X gate. The decomposition is as follows:"
   ]
  },
  {
   "cell_type": "code",
   "execution_count": 12,
   "metadata": {},
   "outputs": [
    {
     "data": {
      "text/plain": [
       "<qiskit.circuit.instructionset.InstructionSet at 0x7f0ab14fa3e0>"
      ]
     },
     "execution_count": 12,
     "metadata": {},
     "output_type": "execute_result"
    }
   ],
   "source": [
    "qreg_q = QuantumRegister(4, 'q')\n",
    "\n",
    "circuit3 = QuantumCircuit(qreg_q)\n",
    "\n",
    "theta = np.pi/8 # Set angle of Phase Gate\n",
    "\n",
    "# Operations on target qubit, q[3]\n",
    "circuit3.h(qreg_q[3])\n",
    "circuit3.cx(qreg_q[2], qreg_q[3])\n",
    "circuit3.p(-theta,qreg_q[3])\n",
    "circuit3.cx(qreg_q[1], qreg_q[3])\n",
    "circuit3.p(theta,qreg_q[3])\n",
    "circuit3.cx(qreg_q[0], qreg_q[3])\n",
    "circuit3.p(-theta, qreg_q[3])\n",
    "circuit3.cx(qreg_q[1], qreg_q[3])\n",
    "circuit3.p(theta, qreg_q[3])\n",
    "circuit3.cx(qreg_q[2], qreg_q[3])\n",
    "circuit3.p(-theta, qreg_q[3])\n",
    "circuit3.cx(qreg_q[1], qreg_q[3])\n",
    "circuit3.p(theta, qreg_q[3])\n",
    "circuit3.cx(qreg_q[0], qreg_q[3])\n",
    "circuit3.p(-theta, qreg_q[3])\n",
    "circuit3.cx(qreg_q[1], qreg_q[3])\n",
    "circuit3.p(theta, qreg_q[3])\n",
    "circuit3.h(qreg_q[3])\n",
    "###\n",
    "# Operations on control qubit, q[2]\n",
    "circuit3.p(theta, qreg_q[2])\n",
    "circuit3.cx(qreg_q[0], qreg_q[2])\n",
    "circuit3.p(-theta, qreg_q[2])\n",
    "circuit3.cx(qreg_q[1], qreg_q[2])\n",
    "circuit3.p(theta, qreg_q[2])\n",
    "circuit3.cx(qreg_q[0], qreg_q[2])\n",
    "circuit3.p(-theta, qreg_q[2])\n",
    "circuit3.cx(qreg_q[1], qreg_q[2])\n",
    "###\n",
    "# Operations on control qubit, q[1]\n",
    "circuit3.p(theta, qreg_q[1])\n",
    "circuit3.cx(qreg_q[0], qreg_q[1])\n",
    "circuit3.p(-theta, qreg_q[1])\n",
    "circuit3.cx(qreg_q[0], qreg_q[1])\n",
    "###\n",
    "# Operations on control qubit, q[0]\n",
    "circuit3.p(theta, qreg_q[0])\n",
    "\n",
    "# It is worth noting that a Phase gate sends |0> to |0> and |1> to e^(i*theta)|1>, \n",
    "# so it doesn't matter if we move a particular phase through a control on a CNOT gate, since it won't change a |0> to a |1> or vice versa."
   ]
  },
  {
   "cell_type": "code",
   "execution_count": 13,
   "metadata": {},
   "outputs": [
    {
     "data": {
      "image/png": "[encoded data removed]",
      "text/plain": [
       "<Figure size 2210.55x785.944 with 1 Axes>"
      ]
     },
     "execution_count": 13,
     "metadata": {},
     "output_type": "execute_result"
    }
   ],
   "source": [
    "circuit3.draw(output='mpl')"
   ]
  },
  {
   "cell_type": "code",
   "execution_count": 14,
   "metadata": {},
   "outputs": [
    {
     "data": {
      "text/latex": [
       "$$\n",
       "\\text{Unitary} = \n",
       "\\begin{bmatrix}\n",
       "1 & 0 & 0 & 0 & 0 & 0 & 0 & 0 & 0 & 0 & 0 & 0 & 0 & 0 & 0 & 0  \\\\\n",
       " 0 & 1 & 0 & 0 & 0 & 0 & 0 & 0 & 0 & 0 & 0 & 0 & 0 & 0 & 0 & 0  \\\\\n",
       " 0 & 0 & 1 & 0 & 0 & 0 & 0 & 0 & 0 & 0 & 0 & 0 & 0 & 0 & 0 & 0  \\\\\n",
       " 0 & 0 & 0 & 1 & 0 & 0 & 0 & 0 & 0 & 0 & 0 & 0 & 0 & 0 & 0 & 0  \\\\\n",
       " 0 & 0 & 0 & 0 & 1 & 0 & 0 & 0 & 0 & 0 & 0 & 0 & 0 & 0 & 0 & 0  \\\\\n",
       " 0 & 0 & 0 & 0 & 0 & 1 & 0 & 0 & 0 & 0 & 0 & 0 & 0 & 0 & 0 & 0  \\\\\n",
       " 0 & 0 & 0 & 0 & 0 & 0 & 1 & 0 & 0 & 0 & 0 & 0 & 0 & 0 & 0 & 0  \\\\\n",
       " 0 & 0 & 0 & 0 & 0 & 0 & 0 & 0 & 0 & 0 & 0 & 0 & 0 & 0 & 0 & 1  \\\\\n",
       " 0 & 0 & 0 & 0 & 0 & 0 & 0 & 0 & 1 & 0 & 0 & 0 & 0 & 0 & 0 & 0  \\\\\n",
       " 0 & 0 & 0 & 0 & 0 & 0 & 0 & 0 & 0 & 1 & 0 & 0 & 0 & 0 & 0 & 0  \\\\\n",
       " 0 & 0 & 0 & 0 & 0 & 0 & 0 & 0 & 0 & 0 & 1 & 0 & 0 & 0 & 0 & 0  \\\\\n",
       " 0 & 0 & 0 & 0 & 0 & 0 & 0 & 0 & 0 & 0 & 0 & 1 & 0 & 0 & 0 & 0  \\\\\n",
       " 0 & 0 & 0 & 0 & 0 & 0 & 0 & 0 & 0 & 0 & 0 & 0 & 1 & 0 & 0 & 0  \\\\\n",
       " 0 & 0 & 0 & 0 & 0 & 0 & 0 & 0 & 0 & 0 & 0 & 0 & 0 & 1 & 0 & 0  \\\\\n",
       " 0 & 0 & 0 & 0 & 0 & 0 & 0 & 0 & 0 & 0 & 0 & 0 & 0 & 0 & 1 & 0  \\\\\n",
       " 0 & 0 & 0 & 0 & 0 & 0 & 0 & 1 & 0 & 0 & 0 & 0 & 0 & 0 & 0 & 0  \\\\\n",
       " \\end{bmatrix}\n",
       "$$"
      ],
      "text/plain": [
       "<IPython.core.display.Latex object>"
      ]
     },
     "execution_count": 14,
     "metadata": {},
     "output_type": "execute_result"
    }
   ],
   "source": [
    "unitary3 = Operator(circuit3).data\n",
    "array_to_latex(unitary3, prefix=\"\\\\text{Unitary} = \", max_size=100)"
   ]
  },
  {
   "cell_type": "code",
   "execution_count": 10,
   "metadata": {},
   "outputs": [
    {
     "data": {
      "text/latex": [
       "$$\n",
       "\\text{Unitary} = \n",
       "\\begin{bmatrix}\n",
       "1 & 0 & 0 & 0 & 0 & 0 & 0 & 0 & 0 & 0 & 0 & 0 & 0 & 0 & 0 & 0  \\\\\n",
       " 0 & 1 & 0 & 0 & 0 & 0 & 0 & 0 & 0 & 0 & 0 & 0 & 0 & 0 & 0 & 0  \\\\\n",
       " 0 & 0 & 1 & 0 & 0 & 0 & 0 & 0 & 0 & 0 & 0 & 0 & 0 & 0 & 0 & 0  \\\\\n",
       " 0 & 0 & 0 & 1 & 0 & 0 & 0 & 0 & 0 & 0 & 0 & 0 & 0 & 0 & 0 & 0  \\\\\n",
       " 0 & 0 & 0 & 0 & 1 & 0 & 0 & 0 & 0 & 0 & 0 & 0 & 0 & 0 & 0 & 0  \\\\\n",
       " 0 & 0 & 0 & 0 & 0 & 1 & 0 & 0 & 0 & 0 & 0 & 0 & 0 & 0 & 0 & 0  \\\\\n",
       " 0 & 0 & 0 & 0 & 0 & 0 & 1 & 0 & 0 & 0 & 0 & 0 & 0 & 0 & 0 & 0  \\\\\n",
       " 0 & 0 & 0 & 0 & 0 & 0 & 0 & 0 & 0 & 0 & 0 & 0 & 0 & 0 & 0 & 1  \\\\\n",
       " 0 & 0 & 0 & 0 & 0 & 0 & 0 & 0 & 1 & 0 & 0 & 0 & 0 & 0 & 0 & 0  \\\\\n",
       " 0 & 0 & 0 & 0 & 0 & 0 & 0 & 0 & 0 & 1 & 0 & 0 & 0 & 0 & 0 & 0  \\\\\n",
       " 0 & 0 & 0 & 0 & 0 & 0 & 0 & 0 & 0 & 0 & 1 & 0 & 0 & 0 & 0 & 0  \\\\\n",
       " 0 & 0 & 0 & 0 & 0 & 0 & 0 & 0 & 0 & 0 & 0 & 1 & 0 & 0 & 0 & 0  \\\\\n",
       " 0 & 0 & 0 & 0 & 0 & 0 & 0 & 0 & 0 & 0 & 0 & 0 & 1 & 0 & 0 & 0  \\\\\n",
       " 0 & 0 & 0 & 0 & 0 & 0 & 0 & 0 & 0 & 0 & 0 & 0 & 0 & 1 & 0 & 0  \\\\\n",
       " 0 & 0 & 0 & 0 & 0 & 0 & 0 & 0 & 0 & 0 & 0 & 0 & 0 & 0 & 1 & 0  \\\\\n",
       " 0 & 0 & 0 & 0 & 0 & 0 & 0 & 1 & 0 & 0 & 0 & 0 & 0 & 0 & 0 & 0  \\\\\n",
       " \\end{bmatrix}\n",
       "$$"
      ],
      "text/plain": [
       "<IPython.core.display.Latex object>"
      ]
     },
     "execution_count": 10,
     "metadata": {},
     "output_type": "execute_result"
    }
   ],
   "source": [
    "# Now let's again compare our decomposition to Qiskit's built-in multi-controlled X gate.\n",
    "qreg_q = QuantumRegister(4, 'q')\n",
    "circuit4 = QuantumCircuit(qreg_q)\n",
    "\n",
    "circuit4.mcx([qreg_q[0], qreg_q[1], qreg_q[2]], qreg_q[3])\n",
    "\n",
    "unitary4 = Operator(circuit4).data\n",
    "array_to_latex(unitary4, prefix=\"\\\\text{Unitary} = \", max_size=100)"
   ]
  },
  {
   "cell_type": "code",
   "execution_count": 11,
   "metadata": {},
   "outputs": [
    {
     "data": {
      "text/plain": [
       "True"
      ]
     },
     "execution_count": 11,
     "metadata": {},
     "output_type": "execute_result"
    }
   ],
   "source": [
    "np.all(np.isclose(unitary3,unitary4)) # We can see that the two unitaries are the same, so our decomposition is correct."
   ]
  }
 ],
 "metadata": {
  "kernelspec": {
   "display_name": "circuit_compilation",
   "language": "python",
   "name": "python3"
  },
  "language_info": {
   "codemirror_mode": {
    "name": "ipython",
    "version": 3
   },
   "file_extension": ".py",
   "mimetype": "text/x-python",
   "name": "python",
   "nbconvert_exporter": "python",
   "pygments_lexer": "ipython3",
   "version": "3.10.8"
  }
 },
 "nbformat": 4,
 "nbformat_minor": 2
}
